{
 "cells": [
  {
   "cell_type": "markdown",
   "metadata": {},
   "source": [
    "根据设定的运行时间，清理jupyter notebook进程。 避免过多的note打开一直占用系统资源\n",
    "\n",
    "测试环境： \n",
    "psutil  5.4.3 (在5.0.x版本后出现了psutil.process_iter函数的参数变化，会报错，建议升级版本或者修改代码 )\n",
    "python3.6    \n",
    "\n",
    "结合定时脚本，定期检查执行时间过长的进程，kill掉\n",
    "0 */1 * * * python3 /root/jupyter_timing_killer.py"
   ]
  },
  {
   "cell_type": "code",
   "execution_count": null,
   "metadata": {},
   "outputs": [],
   "source": [
    "import psutil\n",
    "import os\n",
    "import time\n",
    "#http://psutil.readthedocs.io/en/latest/#"
   ]
  },
  {
   "cell_type": "code",
   "execution_count": null,
   "metadata": {},
   "outputs": [],
   "source": [
    "#time interval to kill in seconds\n",
    "time2die = 3 * 3600  #3hour"
   ]
  },
  {
   "cell_type": "code",
   "execution_count": null,
   "metadata": {},
   "outputs": [],
   "source": [
    "'''\n",
    "cmdline 匹配进程id list  notebook的cmd是这样的，匹配'ipykernel_launcher'正合适.  字符串部分包含需要改改if条件咯\n",
    "\n",
    "['/root/miniconda3/bin/python',\n",
    " '-m',\n",
    " 'ipykernel_launcher',\n",
    " '-f',\n",
    " '/run/user/0/jupyter/kernel-5c2390e6-55d8-4858-9162-1b90dd58132d.json']\n",
    "\n",
    "'''\n",
    "def match_procs_by_cmdline(cmd):\n",
    "    ls = []\n",
    "    for p in psutil.process_iter(attrs=[\"pid\",'cmdline']):\n",
    "        if p.info['cmdline'] and ( cmd in p.info['cmdline'])  :\n",
    "            ls.append(p.info['pid'])\n",
    "    return ls"
   ]
  },
  {
   "cell_type": "code",
   "execution_count": null,
   "metadata": {},
   "outputs": [],
   "source": [
    "'''\n",
    "\n",
    "check string against Process.name(), Process.exe() and Process.cmdline():\n",
    "\n",
    "'''\n",
    "def find_procs_by_name(name):\n",
    "    \"Return a list of processes matching 'name'.\"\n",
    "    ls = []\n",
    "    for p in psutil.process_iter(attrs=[\"name\", \"exe\", \"cmdline\"]):\n",
    "        if name == p.info['name'] or \\\n",
    "                p.info['exe'] and os.path.basename(p.info['exe']) == name or \\\n",
    "                p.info['cmdline'] and p.info['cmdline'][0] == name:\n",
    "            ls.append(p)\n",
    "    return ls"
   ]
  },
  {
   "cell_type": "code",
   "execution_count": null,
   "metadata": {},
   "outputs": [],
   "source": [
    "notes=match_procs_by_cmdline('ipykernel_launcher')\n",
    "print(\"check in : %s\" %(notes))"
   ]
  },
  {
   "cell_type": "code",
   "execution_count": null,
   "metadata": {},
   "outputs": [],
   "source": [
    "for n in notes:\n",
    "    p = psutil.Process(n)\n",
    "    if(time.time() - p.create_time()  >= time2die):\n",
    "        p.terminate()\n",
    "        print(\"time to die for pid: %s  cmd: %s\" %( n ,p.cmdline() ) )\n"
   ]
  }
 ],
 "metadata": {
  "kernelspec": {
   "display_name": "Python 3",
   "language": "python",
   "name": "python3"
  },
  "language_info": {
   "codemirror_mode": {
    "name": "ipython",
    "version": 3
   },
   "file_extension": ".py",
   "mimetype": "text/x-python",
   "name": "python",
   "nbconvert_exporter": "python",
   "pygments_lexer": "ipython3",
   "version": "3.6.3"
  }
 },
 "nbformat": 4,
 "nbformat_minor": 2
}
